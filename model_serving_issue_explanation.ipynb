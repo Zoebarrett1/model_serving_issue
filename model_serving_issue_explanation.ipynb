{
 "cells": [
  {
   "cell_type": "markdown",
   "id": "ae46dc66-86de-4931-80d8-4e49ee92a505",
   "metadata": {},
   "source": [
    "# Model Serving "
   ]
  },
  {
   "cell_type": "markdown",
   "id": "4ca049e5-1f8b-4d0f-b633-410164b59ebb",
   "metadata": {},
   "source": [
    "## Sklearn Pipeline \n",
    "\n",
    "The steps are: \n",
    "\n",
    "1. Load Dataset\n",
    "2. Build Pipeline"
   ]
  },
  {
   "cell_type": "markdown",
   "id": "76a73502-b44f-4628-9a7c-b464dcf61a29",
   "metadata": {},
   "source": [
    "### 1. Load Dataset"
   ]
  },
  {
   "cell_type": "markdown",
   "id": "12c21d96-44e0-4828-a0a3-17e0d3af1955",
   "metadata": {},
   "source": [
    "Import the pandas and numpy packages"
   ]
  },
  {
   "cell_type": "code",
   "execution_count": 1,
   "id": "db0d99fe-b20a-4bc1-a871-30bdf8a5afb3",
   "metadata": {},
   "outputs": [],
   "source": [
    "import pandas as pd\n",
    "import numpy as np"
   ]
  },
  {
   "cell_type": "markdown",
   "id": "bb67fe44-137a-4b9f-8d65-e1aaaf8015a7",
   "metadata": {},
   "source": [
    "Load dataset"
   ]
  },
  {
   "cell_type": "code",
   "execution_count": 2,
   "id": "43594bbe-1406-42bd-b836-23ed7a38a21b",
   "metadata": {},
   "outputs": [],
   "source": [
    "# Load the datasets\n",
    "clean_df = pd.read_csv('/Users/zoebarrett/13964907_adv_mla_at2/adv_mla_at2_model/data/raw/sales_train_10.csv')\n",
    "\n",
    "events_df = pd.read_csv('/Users/zoebarrett/13964907_adv_mla_at2/adv_mla_at2_model/data/raw/calendar_events.csv')\n"
   ]
  },
  {
   "cell_type": "code",
   "execution_count": 3,
   "id": "11820aa8-b712-4d5c-84a1-3d71a876a32f",
   "metadata": {},
   "outputs": [
    {
     "data": {
      "text/html": [
       "<div>\n",
       "<style scoped>\n",
       "    .dataframe tbody tr th:only-of-type {\n",
       "        vertical-align: middle;\n",
       "    }\n",
       "\n",
       "    .dataframe tbody tr th {\n",
       "        vertical-align: top;\n",
       "    }\n",
       "\n",
       "    .dataframe thead th {\n",
       "        text-align: right;\n",
       "    }\n",
       "</style>\n",
       "<table border=\"1\" class=\"dataframe\">\n",
       "  <thead>\n",
       "    <tr style=\"text-align: right;\">\n",
       "      <th></th>\n",
       "      <th>item_id</th>\n",
       "      <th>dept_id</th>\n",
       "      <th>store_id</th>\n",
       "      <th>sales</th>\n",
       "      <th>date</th>\n",
       "    </tr>\n",
       "  </thead>\n",
       "  <tbody>\n",
       "    <tr>\n",
       "      <th>0</th>\n",
       "      <td>HOBBIES_1_001</td>\n",
       "      <td>HOBBIES_1</td>\n",
       "      <td>CA_1</td>\n",
       "      <td>0</td>\n",
       "      <td>2012-01-01</td>\n",
       "    </tr>\n",
       "    <tr>\n",
       "      <th>1</th>\n",
       "      <td>HOBBIES_1_002</td>\n",
       "      <td>HOBBIES_1</td>\n",
       "      <td>CA_1</td>\n",
       "      <td>0</td>\n",
       "      <td>2012-01-01</td>\n",
       "    </tr>\n",
       "    <tr>\n",
       "      <th>2</th>\n",
       "      <td>HOBBIES_1_003</td>\n",
       "      <td>HOBBIES_1</td>\n",
       "      <td>CA_1</td>\n",
       "      <td>0</td>\n",
       "      <td>2012-01-01</td>\n",
       "    </tr>\n",
       "    <tr>\n",
       "      <th>3</th>\n",
       "      <td>HOBBIES_1_004</td>\n",
       "      <td>HOBBIES_1</td>\n",
       "      <td>CA_1</td>\n",
       "      <td>0</td>\n",
       "      <td>2012-01-01</td>\n",
       "    </tr>\n",
       "    <tr>\n",
       "      <th>4</th>\n",
       "      <td>HOBBIES_1_005</td>\n",
       "      <td>HOBBIES_1</td>\n",
       "      <td>CA_1</td>\n",
       "      <td>1</td>\n",
       "      <td>2012-01-01</td>\n",
       "    </tr>\n",
       "  </tbody>\n",
       "</table>\n",
       "</div>"
      ],
      "text/plain": [
       "         item_id    dept_id store_id  sales        date\n",
       "0  HOBBIES_1_001  HOBBIES_1     CA_1      0  2012-01-01\n",
       "1  HOBBIES_1_002  HOBBIES_1     CA_1      0  2012-01-01\n",
       "2  HOBBIES_1_003  HOBBIES_1     CA_1      0  2012-01-01\n",
       "3  HOBBIES_1_004  HOBBIES_1     CA_1      0  2012-01-01\n",
       "4  HOBBIES_1_005  HOBBIES_1     CA_1      1  2012-01-01"
      ]
     },
     "execution_count": 3,
     "metadata": {},
     "output_type": "execute_result"
    }
   ],
   "source": [
    "clean_df.head()"
   ]
  },
  {
   "cell_type": "code",
   "execution_count": 4,
   "id": "24fd1242-c33f-4ecb-b005-81a2fda163f3",
   "metadata": {},
   "outputs": [
    {
     "data": {
      "text/plain": [
       "(10, 5)"
      ]
     },
     "execution_count": 4,
     "metadata": {},
     "output_type": "execute_result"
    }
   ],
   "source": [
    "clean_df.shape"
   ]
  },
  {
   "cell_type": "code",
   "execution_count": 5,
   "id": "67e53360-ad9b-4dba-813b-a1324faf61ae",
   "metadata": {},
   "outputs": [
    {
     "name": "stdout",
     "output_type": "stream",
     "text": [
      "<class 'pandas.core.frame.DataFrame'>\n",
      "RangeIndex: 10 entries, 0 to 9\n",
      "Data columns (total 5 columns):\n",
      " #   Column    Non-Null Count  Dtype \n",
      "---  ------    --------------  ----- \n",
      " 0   item_id   10 non-null     object\n",
      " 1   dept_id   10 non-null     object\n",
      " 2   store_id  10 non-null     object\n",
      " 3   sales     10 non-null     int64 \n",
      " 4   date      10 non-null     object\n",
      "dtypes: int64(1), object(4)\n",
      "memory usage: 528.0+ bytes\n"
     ]
    }
   ],
   "source": [
    "clean_df.info()"
   ]
  },
  {
   "cell_type": "markdown",
   "id": "bc169def-d7e7-4393-ba00-c9e73e49ef00",
   "metadata": {},
   "source": [
    "### 2. Build Pipeline "
   ]
  },
  {
   "cell_type": "markdown",
   "id": "2c107f8a-be11-4400-831a-b24d8c6c933a",
   "metadata": {},
   "source": [
    "Import `Pipeline` from `sklearn.pipeline`, `OrdinalEncoder` and `OneHotEncoder` from `sklearn.preprocessing` and `SGDClassifier` from `sklearn.linear_model`"
   ]
  },
  {
   "cell_type": "code",
   "execution_count": 6,
   "id": "327b44a5-9552-40fc-ba93-0a1b1859e0df",
   "metadata": {},
   "outputs": [],
   "source": [
    "from sklearn.pipeline import Pipeline\n",
    "from sklearn.preprocessing import OneHotEncoder, OrdinalEncoder\n",
    "from sklearn.base import BaseEstimator, TransformerMixin"
   ]
  },
  {
   "cell_type": "code",
   "execution_count": 7,
   "id": "16cb3f5c-475f-40bd-a037-2ea3601307f4",
   "metadata": {},
   "outputs": [],
   "source": [
    "class EventTransformer(BaseEstimator, TransformerMixin):\n",
    "    def __init__(self, events_df):\n",
    "        self.events_df = events_df\n",
    "    \n",
    "    def fit(self, clean_df, y=None):\n",
    "        return self\n",
    "    \n",
    "    def transform(self, clean_df):\n",
    "        clean_df_copy = clean_df.merge(self.events_df, on='date', how='left')\n",
    "        clean_df_copy['event_name'].fillna('NoEvent', inplace=True)\n",
    "        clean_df_copy['event_type'].fillna('NoEvent', inplace=True)\n",
    "        \n",
    "        # One-hot encode 'event_name' and 'event_type'\n",
    "        event_name_encoded = pd.get_dummies(clean_df_copy['event_name'], prefix='event_name', dtype=int)\n",
    "        event_type_encoded = pd.get_dummies(clean_df_copy['event_type'], prefix='event_type', dtype=int)\n",
    "        \n",
    "        # Concatenate the one-hot encoded columns with the original DataFrame\n",
    "        transformed_df = pd.concat([clean_df_copy, event_name_encoded, event_type_encoded], axis=1)\n",
    "        \n",
    "        # Drop the original 'date', 'event_name' and 'event_type' columns\n",
    "        transformed_df.drop(['date', 'event_name', 'event_type'], axis=1, inplace=True)\n",
    "        \n",
    "        return transformed_df"
   ]
  },
  {
   "cell_type": "code",
   "execution_count": 8,
   "id": "7aab1e1d-e640-4820-b4ad-26d453bea368",
   "metadata": {},
   "outputs": [
    {
     "name": "stdout",
     "output_type": "stream",
     "text": [
      "   event_name_EventA  event_name_EventB  event_type_TypeA  event_type_TypeB\n",
      "0                  1                  0                 1                 0\n",
      "1                  0                  1                 0                 1\n"
     ]
    }
   ],
   "source": [
    "# Test EventTransformer works \n",
    "events_df_sample = pd.DataFrame({'date': ['2023-09-01', '2023-09-02'], 'event_name': ['EventA', 'EventB'], 'event_type': ['TypeA', 'TypeB']})\n",
    "clean_df_sample = pd.DataFrame({'date': ['2023-09-01', '2023-09-02']})\n",
    "\n",
    "event_transformer = EventTransformer(events_df_sample)\n",
    "transformed_df = event_transformer.transform(clean_df_sample)\n",
    "print(transformed_df)"
   ]
  },
  {
   "cell_type": "code",
   "execution_count": 9,
   "id": "4ba5672f-ed0b-4dac-934e-293fdb47eed8",
   "metadata": {},
   "outputs": [],
   "source": [
    "class ItemIdTransformer(BaseEstimator, TransformerMixin):\n",
    "    def fit(self, clean_df, y=None):\n",
    "        return self\n",
    "    \n",
    "    def transform(self, clean_df):\n",
    "        clean_df_copy = clean_df.copy()\n",
    "        # extract the last 3 numbers of the item_id e.g. 'HOBBIES_1_001' becomes '001'\n",
    "        clean_df_copy['transformed_item_id'] = clean_df_copy['item_id'].str.extract('_(\\d+)$').astype(str)\n",
    "        \n",
    "        # One-hot encode 'transformed_item_id' using pd.get_dummies\n",
    "        one_hot_encoded = pd.get_dummies(clean_df_copy['transformed_item_id'], prefix='item_id', dtype=int)\n",
    "        \n",
    "        # Concatenate the one-hot encoded columns with the original DataFrame\n",
    "        transformed_df = pd.concat([clean_df_copy, one_hot_encoded], axis=1)\n",
    "        \n",
    "        # Drop the original 'transformed_item_id' column\n",
    "        transformed_df.drop(['transformed_item_id', 'item_id'], axis=1, inplace=True)\n",
    "        \n",
    "        return transformed_df"
   ]
  },
  {
   "cell_type": "code",
   "execution_count": 10,
   "id": "165ef291-b790-4f56-b7b1-204bb7b572f8",
   "metadata": {},
   "outputs": [
    {
     "name": "stdout",
     "output_type": "stream",
     "text": [
      "   item_id_001  item_id_002  item_id_003\n",
      "0            1            0            0\n",
      "1            0            1            0\n",
      "2            0            0            1\n"
     ]
    }
   ],
   "source": [
    "# test ItemIDTransformer\n",
    "clean_df_sample = pd.DataFrame({'item_id': ['HOBBIES_1_001', 'HOBBIES_1_002', 'HOBBIES_1_003']})\n",
    "\n",
    "item_id_transformer = ItemIdTransformer()\n",
    "transformed_df = item_id_transformer.transform(clean_df_sample)\n",
    "print(transformed_df)"
   ]
  },
  {
   "cell_type": "markdown",
   "id": "5c125351-a753-449a-ace3-f154eb625b8b",
   "metadata": {},
   "source": [
    "Create a `Pipeline` called `cat_transformer` with one step that contains `OneHotEncoder`"
   ]
  },
  {
   "cell_type": "code",
   "execution_count": 11,
   "id": "1d443c39-a526-457b-b8e0-b0479c12e9e8",
   "metadata": {},
   "outputs": [],
   "source": [
    "cat_transformer = Pipeline(\n",
    "    steps=[\n",
    "        ('one_hot_encoder', OneHotEncoder())\n",
    "    ]\n",
    ")"
   ]
  },
  {
   "cell_type": "markdown",
   "id": "73ecd4e1-6574-4507-a4c8-f37ca96136aa",
   "metadata": {},
   "source": [
    "Create a list called `cat_cols` that will contain the list of columns that are categorical type"
   ]
  },
  {
   "cell_type": "code",
   "execution_count": 12,
   "id": "647bc7ee-c8c9-4535-bf91-818e58671e29",
   "metadata": {},
   "outputs": [],
   "source": [
    "cat_cols = ['dept_id', 'store_id']\n"
   ]
  },
  {
   "cell_type": "markdown",
   "id": "7ae0afc8-1515-4db7-894f-4ec0c9940b73",
   "metadata": {},
   "source": [
    "Import `ColumnTransformer` from `sklearn.compose`"
   ]
  },
  {
   "cell_type": "code",
   "execution_count": 13,
   "id": "ace4965a-6494-4d44-830f-d852e7746a35",
   "metadata": {},
   "outputs": [],
   "source": [
    "from sklearn.compose import ColumnTransformer"
   ]
  },
  {
   "cell_type": "markdown",
   "id": "6c41ff72-10cd-42dd-a274-65f190dde710",
   "metadata": {},
   "source": [
    "Create a `ColumnTransformer` called `preprocessor` containing the following steps\n",
    "- `date_transformer` for date related variables\n",
    "- `cat_transformer` for `cat_cols`\n",
    "- `ord_transformer` for `ord_cols`"
   ]
  },
  {
   "cell_type": "code",
   "execution_count": 14,
   "id": "b3305660-8597-49e8-9057-8fa31d609b95",
   "metadata": {},
   "outputs": [],
   "source": [
    "# Instantiate transformers\n",
    "event_transformer = EventTransformer(events_df)\n",
    "item_id_transformer = ItemIdTransformer()\n",
    "\n",
    "# Create preprocessor \n",
    "preprocessor = ColumnTransformer(\n",
    "    transformers=[\n",
    "        ('event_transformer', event_transformer, ['date']),\n",
    "        ('item_id_transformer', item_id_transformer, ['item_id']),\n",
    "        ('cat_transformer', cat_transformer, cat_cols)\n",
    "    ]\n",
    ")"
   ]
  },
  {
   "cell_type": "code",
   "execution_count": 15,
   "id": "070db988-22b6-41c4-b4d4-3453f0dd9b4f",
   "metadata": {},
   "outputs": [
    {
     "data": {
      "text/html": [
       "<div>\n",
       "<style scoped>\n",
       "    .dataframe tbody tr th:only-of-type {\n",
       "        vertical-align: middle;\n",
       "    }\n",
       "\n",
       "    .dataframe tbody tr th {\n",
       "        vertical-align: top;\n",
       "    }\n",
       "\n",
       "    .dataframe thead th {\n",
       "        text-align: right;\n",
       "    }\n",
       "</style>\n",
       "<table border=\"1\" class=\"dataframe\">\n",
       "  <thead>\n",
       "    <tr style=\"text-align: right;\">\n",
       "      <th></th>\n",
       "      <th>0</th>\n",
       "      <th>1</th>\n",
       "      <th>2</th>\n",
       "      <th>3</th>\n",
       "      <th>4</th>\n",
       "      <th>5</th>\n",
       "      <th>6</th>\n",
       "      <th>7</th>\n",
       "      <th>8</th>\n",
       "      <th>9</th>\n",
       "    </tr>\n",
       "  </thead>\n",
       "  <tbody>\n",
       "    <tr>\n",
       "      <th>0</th>\n",
       "      <td>1.0</td>\n",
       "      <td>1.0</td>\n",
       "      <td>1.0</td>\n",
       "      <td>0.0</td>\n",
       "      <td>0.0</td>\n",
       "      <td>0.0</td>\n",
       "      <td>0.0</td>\n",
       "      <td>1.0</td>\n",
       "      <td>0.0</td>\n",
       "      <td>1.0</td>\n",
       "    </tr>\n",
       "    <tr>\n",
       "      <th>1</th>\n",
       "      <td>1.0</td>\n",
       "      <td>1.0</td>\n",
       "      <td>0.0</td>\n",
       "      <td>1.0</td>\n",
       "      <td>0.0</td>\n",
       "      <td>0.0</td>\n",
       "      <td>0.0</td>\n",
       "      <td>1.0</td>\n",
       "      <td>0.0</td>\n",
       "      <td>1.0</td>\n",
       "    </tr>\n",
       "    <tr>\n",
       "      <th>2</th>\n",
       "      <td>1.0</td>\n",
       "      <td>1.0</td>\n",
       "      <td>0.0</td>\n",
       "      <td>0.0</td>\n",
       "      <td>1.0</td>\n",
       "      <td>0.0</td>\n",
       "      <td>0.0</td>\n",
       "      <td>1.0</td>\n",
       "      <td>0.0</td>\n",
       "      <td>1.0</td>\n",
       "    </tr>\n",
       "    <tr>\n",
       "      <th>3</th>\n",
       "      <td>1.0</td>\n",
       "      <td>1.0</td>\n",
       "      <td>0.0</td>\n",
       "      <td>0.0</td>\n",
       "      <td>0.0</td>\n",
       "      <td>1.0</td>\n",
       "      <td>0.0</td>\n",
       "      <td>1.0</td>\n",
       "      <td>0.0</td>\n",
       "      <td>1.0</td>\n",
       "    </tr>\n",
       "    <tr>\n",
       "      <th>4</th>\n",
       "      <td>1.0</td>\n",
       "      <td>1.0</td>\n",
       "      <td>0.0</td>\n",
       "      <td>0.0</td>\n",
       "      <td>0.0</td>\n",
       "      <td>0.0</td>\n",
       "      <td>1.0</td>\n",
       "      <td>1.0</td>\n",
       "      <td>0.0</td>\n",
       "      <td>1.0</td>\n",
       "    </tr>\n",
       "  </tbody>\n",
       "</table>\n",
       "</div>"
      ],
      "text/plain": [
       "     0    1    2    3    4    5    6    7    8    9\n",
       "0  1.0  1.0  1.0  0.0  0.0  0.0  0.0  1.0  0.0  1.0\n",
       "1  1.0  1.0  0.0  1.0  0.0  0.0  0.0  1.0  0.0  1.0\n",
       "2  1.0  1.0  0.0  0.0  1.0  0.0  0.0  1.0  0.0  1.0\n",
       "3  1.0  1.0  0.0  0.0  0.0  1.0  0.0  1.0  0.0  1.0\n",
       "4  1.0  1.0  0.0  0.0  0.0  0.0  1.0  1.0  0.0  1.0"
      ]
     },
     "execution_count": 15,
     "metadata": {},
     "output_type": "execute_result"
    }
   ],
   "source": [
    "# Check how preprocessor is behaving \n",
    "transformed_sample = preprocessor.fit_transform(clean_df)\n",
    "\n",
    "transformed_df = pd.DataFrame(transformed_sample)\n",
    "\n",
    "transformed_df.head()"
   ]
  },
  {
   "cell_type": "markdown",
   "id": "61ffb049-b81c-4b03-baeb-1117efe203ad",
   "metadata": {},
   "source": [
    "Import XGBRegressor module from xgboost"
   ]
  },
  {
   "cell_type": "code",
   "execution_count": 16,
   "id": "8f55ccef-ae60-42b0-9760-7fd3fe7792ea",
   "metadata": {},
   "outputs": [],
   "source": [
    "from xgboost import XGBRegressor"
   ]
  },
  {
   "cell_type": "markdown",
   "id": "5e492622-6d9a-4331-b74f-d5ceb9805d33",
   "metadata": {},
   "source": [
    "[2.8] Create a `Pipeline` called `xgb_pipe` that contains 2 steps `preprocessor` and another that instantiates an XGBoost Regressor model "
   ]
  },
  {
   "cell_type": "code",
   "execution_count": 17,
   "id": "3441acdc-735f-4b16-afb3-693ce7d70548",
   "metadata": {},
   "outputs": [],
   "source": [
    "xgb_pipe = Pipeline(\n",
    "    steps=[\n",
    "        ('preprocessor', preprocessor),\n",
    "        ('xgb', XGBRegressor(objective ='reg:linear', n_estimators = 10))\n",
    "    ]\n",
    ")"
   ]
  },
  {
   "cell_type": "markdown",
   "id": "b51fc586-9db7-4639-a569-e0156214efeb",
   "metadata": {},
   "source": [
    "Fit `xgb_pipe` with `clean_df`"
   ]
  },
  {
   "cell_type": "code",
   "execution_count": 18,
   "id": "1b97ffed-77d4-44ed-8a85-573831944104",
   "metadata": {},
   "outputs": [
    {
     "name": "stdout",
     "output_type": "stream",
     "text": [
      "[18:44:18] WARNING: /Users/runner/work/xgboost/xgboost/python-package/build/temp.macosx-10.9-x86_64-cpython-38/xgboost/src/objective/regression_obj.cu:213: reg:linear is now deprecated in favor of reg:squarederror.\n"
     ]
    },
    {
     "name": "stderr",
     "output_type": "stream",
     "text": [
      "/Users/zoebarrett/opt/anaconda3/lib/python3.9/site-packages/xgboost/data.py:440: FutureWarning: is_sparse is deprecated and will be removed in a future version. Check `isinstance(dtype, pd.SparseDtype)` instead.\n",
      "  if is_sparse(data):\n"
     ]
    },
    {
     "data": {
      "text/html": [
       "<style>#sk-container-id-1 {color: black;}#sk-container-id-1 pre{padding: 0;}#sk-container-id-1 div.sk-toggleable {background-color: white;}#sk-container-id-1 label.sk-toggleable__label {cursor: pointer;display: block;width: 100%;margin-bottom: 0;padding: 0.3em;box-sizing: border-box;text-align: center;}#sk-container-id-1 label.sk-toggleable__label-arrow:before {content: \"▸\";float: left;margin-right: 0.25em;color: #696969;}#sk-container-id-1 label.sk-toggleable__label-arrow:hover:before {color: black;}#sk-container-id-1 div.sk-estimator:hover label.sk-toggleable__label-arrow:before {color: black;}#sk-container-id-1 div.sk-toggleable__content {max-height: 0;max-width: 0;overflow: hidden;text-align: left;background-color: #f0f8ff;}#sk-container-id-1 div.sk-toggleable__content pre {margin: 0.2em;color: black;border-radius: 0.25em;background-color: #f0f8ff;}#sk-container-id-1 input.sk-toggleable__control:checked~div.sk-toggleable__content {max-height: 200px;max-width: 100%;overflow: auto;}#sk-container-id-1 input.sk-toggleable__control:checked~label.sk-toggleable__label-arrow:before {content: \"▾\";}#sk-container-id-1 div.sk-estimator input.sk-toggleable__control:checked~label.sk-toggleable__label {background-color: #d4ebff;}#sk-container-id-1 div.sk-label input.sk-toggleable__control:checked~label.sk-toggleable__label {background-color: #d4ebff;}#sk-container-id-1 input.sk-hidden--visually {border: 0;clip: rect(1px 1px 1px 1px);clip: rect(1px, 1px, 1px, 1px);height: 1px;margin: -1px;overflow: hidden;padding: 0;position: absolute;width: 1px;}#sk-container-id-1 div.sk-estimator {font-family: monospace;background-color: #f0f8ff;border: 1px dotted black;border-radius: 0.25em;box-sizing: border-box;margin-bottom: 0.5em;}#sk-container-id-1 div.sk-estimator:hover {background-color: #d4ebff;}#sk-container-id-1 div.sk-parallel-item::after {content: \"\";width: 100%;border-bottom: 1px solid gray;flex-grow: 1;}#sk-container-id-1 div.sk-label:hover label.sk-toggleable__label {background-color: #d4ebff;}#sk-container-id-1 div.sk-serial::before {content: \"\";position: absolute;border-left: 1px solid gray;box-sizing: border-box;top: 0;bottom: 0;left: 50%;z-index: 0;}#sk-container-id-1 div.sk-serial {display: flex;flex-direction: column;align-items: center;background-color: white;padding-right: 0.2em;padding-left: 0.2em;position: relative;}#sk-container-id-1 div.sk-item {position: relative;z-index: 1;}#sk-container-id-1 div.sk-parallel {display: flex;align-items: stretch;justify-content: center;background-color: white;position: relative;}#sk-container-id-1 div.sk-item::before, #sk-container-id-1 div.sk-parallel-item::before {content: \"\";position: absolute;border-left: 1px solid gray;box-sizing: border-box;top: 0;bottom: 0;left: 50%;z-index: -1;}#sk-container-id-1 div.sk-parallel-item {display: flex;flex-direction: column;z-index: 1;position: relative;background-color: white;}#sk-container-id-1 div.sk-parallel-item:first-child::after {align-self: flex-end;width: 50%;}#sk-container-id-1 div.sk-parallel-item:last-child::after {align-self: flex-start;width: 50%;}#sk-container-id-1 div.sk-parallel-item:only-child::after {width: 0;}#sk-container-id-1 div.sk-dashed-wrapped {border: 1px dashed gray;margin: 0 0.4em 0.5em 0.4em;box-sizing: border-box;padding-bottom: 0.4em;background-color: white;}#sk-container-id-1 div.sk-label label {font-family: monospace;font-weight: bold;display: inline-block;line-height: 1.2em;}#sk-container-id-1 div.sk-label-container {text-align: center;}#sk-container-id-1 div.sk-container {/* jupyter's `normalize.less` sets `[hidden] { display: none; }` but bootstrap.min.css set `[hidden] { display: none !important; }` so we also need the `!important` here to be able to override the default hidden behavior on the sphinx rendered scikit-learn.org. See: https://github.com/scikit-learn/scikit-learn/issues/21755 */display: inline-block !important;position: relative;}#sk-container-id-1 div.sk-text-repr-fallback {display: none;}</style><div id=\"sk-container-id-1\" class=\"sk-top-container\"><div class=\"sk-text-repr-fallback\"><pre>Pipeline(steps=[(&#x27;preprocessor&#x27;,\n",
       "                 ColumnTransformer(transformers=[(&#x27;event_transformer&#x27;,\n",
       "                                                  EventTransformer(events_df=           date      event_name event_type\n",
       "0    2011-02-06       SuperBowl   Sporting\n",
       "1    2011-02-14   ValentinesDay   Cultural\n",
       "2    2011-02-21   PresidentsDay   National\n",
       "3    2011-03-09       LentStart  Religious\n",
       "4    2011-03-16       LentWeek2  Religious\n",
       "..          ...             ...        ...\n",
       "162  2016-05-30     MemorialDay   National\n",
       "163  2016-06-02  NBAFinal...\n",
       "                              grow_policy=None, importance_type=None,\n",
       "                              interaction_constraints=None, learning_rate=None,\n",
       "                              max_bin=None, max_cat_threshold=None,\n",
       "                              max_cat_to_onehot=None, max_delta_step=None,\n",
       "                              max_depth=None, max_leaves=None,\n",
       "                              min_child_weight=None, missing=nan,\n",
       "                              monotone_constraints=None, n_estimators=10,\n",
       "                              n_jobs=None, num_parallel_tree=None,\n",
       "                              objective=&#x27;reg:linear&#x27;, predictor=None, ...))])</pre><b>In a Jupyter environment, please rerun this cell to show the HTML representation or trust the notebook. <br />On GitHub, the HTML representation is unable to render, please try loading this page with nbviewer.org.</b></div><div class=\"sk-container\" hidden><div class=\"sk-item sk-dashed-wrapped\"><div class=\"sk-label-container\"><div class=\"sk-label sk-toggleable\"><input class=\"sk-toggleable__control sk-hidden--visually\" id=\"sk-estimator-id-1\" type=\"checkbox\" ><label for=\"sk-estimator-id-1\" class=\"sk-toggleable__label sk-toggleable__label-arrow\">Pipeline</label><div class=\"sk-toggleable__content\"><pre>Pipeline(steps=[(&#x27;preprocessor&#x27;,\n",
       "                 ColumnTransformer(transformers=[(&#x27;event_transformer&#x27;,\n",
       "                                                  EventTransformer(events_df=           date      event_name event_type\n",
       "0    2011-02-06       SuperBowl   Sporting\n",
       "1    2011-02-14   ValentinesDay   Cultural\n",
       "2    2011-02-21   PresidentsDay   National\n",
       "3    2011-03-09       LentStart  Religious\n",
       "4    2011-03-16       LentWeek2  Religious\n",
       "..          ...             ...        ...\n",
       "162  2016-05-30     MemorialDay   National\n",
       "163  2016-06-02  NBAFinal...\n",
       "                              grow_policy=None, importance_type=None,\n",
       "                              interaction_constraints=None, learning_rate=None,\n",
       "                              max_bin=None, max_cat_threshold=None,\n",
       "                              max_cat_to_onehot=None, max_delta_step=None,\n",
       "                              max_depth=None, max_leaves=None,\n",
       "                              min_child_weight=None, missing=nan,\n",
       "                              monotone_constraints=None, n_estimators=10,\n",
       "                              n_jobs=None, num_parallel_tree=None,\n",
       "                              objective=&#x27;reg:linear&#x27;, predictor=None, ...))])</pre></div></div></div><div class=\"sk-serial\"><div class=\"sk-item sk-dashed-wrapped\"><div class=\"sk-label-container\"><div class=\"sk-label sk-toggleable\"><input class=\"sk-toggleable__control sk-hidden--visually\" id=\"sk-estimator-id-2\" type=\"checkbox\" ><label for=\"sk-estimator-id-2\" class=\"sk-toggleable__label sk-toggleable__label-arrow\">preprocessor: ColumnTransformer</label><div class=\"sk-toggleable__content\"><pre>ColumnTransformer(transformers=[(&#x27;event_transformer&#x27;,\n",
       "                                 EventTransformer(events_df=           date      event_name event_type\n",
       "0    2011-02-06       SuperBowl   Sporting\n",
       "1    2011-02-14   ValentinesDay   Cultural\n",
       "2    2011-02-21   PresidentsDay   National\n",
       "3    2011-03-09       LentStart  Religious\n",
       "4    2011-03-16       LentWeek2  Religious\n",
       "..          ...             ...        ...\n",
       "162  2016-05-30     MemorialDay   National\n",
       "163  2016-06-02  NBAFinalsStart   Sporting\n",
       "164  2016-06-07  Ramadan starts  Religious\n",
       "165  2016-06-19    Father&#x27;s day   Cultural\n",
       "166  2016-06-19    NBAFinalsEnd   Sporting\n",
       "\n",
       "[167 rows x 3 columns]),\n",
       "                                 [&#x27;date&#x27;]),\n",
       "                                (&#x27;item_id_transformer&#x27;, ItemIdTransformer(),\n",
       "                                 [&#x27;item_id&#x27;]),\n",
       "                                (&#x27;cat_transformer&#x27;,\n",
       "                                 Pipeline(steps=[(&#x27;one_hot_encoder&#x27;,\n",
       "                                                  OneHotEncoder())]),\n",
       "                                 [&#x27;dept_id&#x27;, &#x27;store_id&#x27;])])</pre></div></div></div><div class=\"sk-parallel\"><div class=\"sk-parallel-item\"><div class=\"sk-item\"><div class=\"sk-label-container\"><div class=\"sk-label sk-toggleable\"><input class=\"sk-toggleable__control sk-hidden--visually\" id=\"sk-estimator-id-3\" type=\"checkbox\" ><label for=\"sk-estimator-id-3\" class=\"sk-toggleable__label sk-toggleable__label-arrow\">event_transformer</label><div class=\"sk-toggleable__content\"><pre>[&#x27;date&#x27;]</pre></div></div></div><div class=\"sk-serial\"><div class=\"sk-item\"><div class=\"sk-estimator sk-toggleable\"><input class=\"sk-toggleable__control sk-hidden--visually\" id=\"sk-estimator-id-4\" type=\"checkbox\" ><label for=\"sk-estimator-id-4\" class=\"sk-toggleable__label sk-toggleable__label-arrow\">EventTransformer</label><div class=\"sk-toggleable__content\"><pre>EventTransformer(events_df=           date      event_name event_type\n",
       "0    2011-02-06       SuperBowl   Sporting\n",
       "1    2011-02-14   ValentinesDay   Cultural\n",
       "2    2011-02-21   PresidentsDay   National\n",
       "3    2011-03-09       LentStart  Religious\n",
       "4    2011-03-16       LentWeek2  Religious\n",
       "..          ...             ...        ...\n",
       "162  2016-05-30     MemorialDay   National\n",
       "163  2016-06-02  NBAFinalsStart   Sporting\n",
       "164  2016-06-07  Ramadan starts  Religious\n",
       "165  2016-06-19    Father&#x27;s day   Cultural\n",
       "166  2016-06-19    NBAFinalsEnd   Sporting\n",
       "\n",
       "[167 rows x 3 columns])</pre></div></div></div></div></div></div><div class=\"sk-parallel-item\"><div class=\"sk-item\"><div class=\"sk-label-container\"><div class=\"sk-label sk-toggleable\"><input class=\"sk-toggleable__control sk-hidden--visually\" id=\"sk-estimator-id-5\" type=\"checkbox\" ><label for=\"sk-estimator-id-5\" class=\"sk-toggleable__label sk-toggleable__label-arrow\">item_id_transformer</label><div class=\"sk-toggleable__content\"><pre>[&#x27;item_id&#x27;]</pre></div></div></div><div class=\"sk-serial\"><div class=\"sk-item\"><div class=\"sk-estimator sk-toggleable\"><input class=\"sk-toggleable__control sk-hidden--visually\" id=\"sk-estimator-id-6\" type=\"checkbox\" ><label for=\"sk-estimator-id-6\" class=\"sk-toggleable__label sk-toggleable__label-arrow\">ItemIdTransformer</label><div class=\"sk-toggleable__content\"><pre>ItemIdTransformer()</pre></div></div></div></div></div></div><div class=\"sk-parallel-item\"><div class=\"sk-item\"><div class=\"sk-label-container\"><div class=\"sk-label sk-toggleable\"><input class=\"sk-toggleable__control sk-hidden--visually\" id=\"sk-estimator-id-7\" type=\"checkbox\" ><label for=\"sk-estimator-id-7\" class=\"sk-toggleable__label sk-toggleable__label-arrow\">cat_transformer</label><div class=\"sk-toggleable__content\"><pre>[&#x27;dept_id&#x27;, &#x27;store_id&#x27;]</pre></div></div></div><div class=\"sk-serial\"><div class=\"sk-item\"><div class=\"sk-serial\"><div class=\"sk-item\"><div class=\"sk-estimator sk-toggleable\"><input class=\"sk-toggleable__control sk-hidden--visually\" id=\"sk-estimator-id-8\" type=\"checkbox\" ><label for=\"sk-estimator-id-8\" class=\"sk-toggleable__label sk-toggleable__label-arrow\">OneHotEncoder</label><div class=\"sk-toggleable__content\"><pre>OneHotEncoder()</pre></div></div></div></div></div></div></div></div></div></div><div class=\"sk-item\"><div class=\"sk-estimator sk-toggleable\"><input class=\"sk-toggleable__control sk-hidden--visually\" id=\"sk-estimator-id-9\" type=\"checkbox\" ><label for=\"sk-estimator-id-9\" class=\"sk-toggleable__label sk-toggleable__label-arrow\">XGBRegressor</label><div class=\"sk-toggleable__content\"><pre>XGBRegressor(base_score=None, booster=None, callbacks=None,\n",
       "             colsample_bylevel=None, colsample_bynode=None,\n",
       "             colsample_bytree=None, early_stopping_rounds=None,\n",
       "             enable_categorical=False, eval_metric=None, feature_types=None,\n",
       "             gamma=None, gpu_id=None, grow_policy=None, importance_type=None,\n",
       "             interaction_constraints=None, learning_rate=None, max_bin=None,\n",
       "             max_cat_threshold=None, max_cat_to_onehot=None,\n",
       "             max_delta_step=None, max_depth=None, max_leaves=None,\n",
       "             min_child_weight=None, missing=nan, monotone_constraints=None,\n",
       "             n_estimators=10, n_jobs=None, num_parallel_tree=None,\n",
       "             objective=&#x27;reg:linear&#x27;, predictor=None, ...)</pre></div></div></div></div></div></div></div>"
      ],
      "text/plain": [
       "Pipeline(steps=[('preprocessor',\n",
       "                 ColumnTransformer(transformers=[('event_transformer',\n",
       "                                                  EventTransformer(events_df=           date      event_name event_type\n",
       "0    2011-02-06       SuperBowl   Sporting\n",
       "1    2011-02-14   ValentinesDay   Cultural\n",
       "2    2011-02-21   PresidentsDay   National\n",
       "3    2011-03-09       LentStart  Religious\n",
       "4    2011-03-16       LentWeek2  Religious\n",
       "..          ...             ...        ...\n",
       "162  2016-05-30     MemorialDay   National\n",
       "163  2016-06-02  NBAFinal...\n",
       "                              grow_policy=None, importance_type=None,\n",
       "                              interaction_constraints=None, learning_rate=None,\n",
       "                              max_bin=None, max_cat_threshold=None,\n",
       "                              max_cat_to_onehot=None, max_delta_step=None,\n",
       "                              max_depth=None, max_leaves=None,\n",
       "                              min_child_weight=None, missing=nan,\n",
       "                              monotone_constraints=None, n_estimators=10,\n",
       "                              n_jobs=None, num_parallel_tree=None,\n",
       "                              objective='reg:linear', predictor=None, ...))])"
      ]
     },
     "execution_count": 18,
     "metadata": {},
     "output_type": "execute_result"
    }
   ],
   "source": [
    "target = clean_df['sales']\n",
    "xgb_pipe.fit(clean_df, target)"
   ]
  },
  {
   "cell_type": "markdown",
   "id": "ff8da3f8-deee-4f4e-8ddd-d68e03451703",
   "metadata": {},
   "source": [
    "Make predictions on clean_df"
   ]
  },
  {
   "cell_type": "code",
   "execution_count": 19,
   "id": "0797d0fc-4f4d-4c85-9c46-48abbe6c71c2",
   "metadata": {},
   "outputs": [
    {
     "data": {
      "text/plain": [
       "array([0.03031158, 0.03031158, 0.03031158, 0.0984372 , 0.9015628 ,\n",
       "       0.02251833, 0.02251833, 0.02251833, 1.7046884 , 0.10262574],\n",
       "      dtype=float32)"
      ]
     },
     "execution_count": 19,
     "metadata": {},
     "output_type": "execute_result"
    }
   ],
   "source": [
    "xgb_pipe.predict(clean_df)"
   ]
  },
  {
   "cell_type": "markdown",
   "id": "b6e5a3ab-bc3c-4f8e-bd35-261b7c48a46b",
   "metadata": {},
   "source": [
    "Transform the first observation of `clean_df` into a dataframe, call it `obs` and make prediction on it"
   ]
  },
  {
   "cell_type": "code",
   "execution_count": 20,
   "id": "b7010bb3-4468-45cc-a709-d4d43bbc8ce5",
   "metadata": {},
   "outputs": [],
   "source": [
    "obs = pd.DataFrame(clean_df.iloc[[0]])"
   ]
  },
  {
   "cell_type": "code",
   "execution_count": 21,
   "id": "a9ae1b8e-9ab1-460a-b0e3-a8d70982ee1a",
   "metadata": {},
   "outputs": [
    {
     "name": "stdout",
     "output_type": "stream",
     "text": [
      "         item_id    dept_id store_id  sales        date\n",
      "0  HOBBIES_1_001  HOBBIES_1     CA_1      0  2012-01-01\n"
     ]
    }
   ],
   "source": [
    "print(obs)"
   ]
  },
  {
   "cell_type": "code",
   "execution_count": 22,
   "id": "d98c9007-0884-496f-b2d7-8117d91ec389",
   "metadata": {},
   "outputs": [
    {
     "ename": "ValueError",
     "evalue": "Feature shape mismatch, expected: 10, got 6",
     "output_type": "error",
     "traceback": [
      "\u001b[0;31m---------------------------------------------------------------------------\u001b[0m",
      "\u001b[0;31mValueError\u001b[0m                                Traceback (most recent call last)",
      "Input \u001b[0;32mIn [22]\u001b[0m, in \u001b[0;36m<cell line: 1>\u001b[0;34m()\u001b[0m\n\u001b[0;32m----> 1\u001b[0m \u001b[43mxgb_pipe\u001b[49m\u001b[38;5;241;43m.\u001b[39;49m\u001b[43mpredict\u001b[49m\u001b[43m(\u001b[49m\u001b[43mobs\u001b[49m\u001b[43m)\u001b[49m\n",
      "File \u001b[0;32m~/opt/anaconda3/lib/python3.9/site-packages/sklearn/pipeline.py:508\u001b[0m, in \u001b[0;36mPipeline.predict\u001b[0;34m(self, X, **predict_params)\u001b[0m\n\u001b[1;32m    506\u001b[0m \u001b[38;5;28;01mfor\u001b[39;00m _, name, transform \u001b[38;5;129;01min\u001b[39;00m \u001b[38;5;28mself\u001b[39m\u001b[38;5;241m.\u001b[39m_iter(with_final\u001b[38;5;241m=\u001b[39m\u001b[38;5;28;01mFalse\u001b[39;00m):\n\u001b[1;32m    507\u001b[0m     Xt \u001b[38;5;241m=\u001b[39m transform\u001b[38;5;241m.\u001b[39mtransform(Xt)\n\u001b[0;32m--> 508\u001b[0m \u001b[38;5;28;01mreturn\u001b[39;00m \u001b[38;5;28;43mself\u001b[39;49m\u001b[38;5;241;43m.\u001b[39;49m\u001b[43msteps\u001b[49m\u001b[43m[\u001b[49m\u001b[38;5;241;43m-\u001b[39;49m\u001b[38;5;241;43m1\u001b[39;49m\u001b[43m]\u001b[49m\u001b[43m[\u001b[49m\u001b[38;5;241;43m1\u001b[39;49m\u001b[43m]\u001b[49m\u001b[38;5;241;43m.\u001b[39;49m\u001b[43mpredict\u001b[49m\u001b[43m(\u001b[49m\u001b[43mXt\u001b[49m\u001b[43m,\u001b[49m\u001b[43m \u001b[49m\u001b[38;5;241;43m*\u001b[39;49m\u001b[38;5;241;43m*\u001b[39;49m\u001b[43mpredict_params\u001b[49m\u001b[43m)\u001b[49m\n",
      "File \u001b[0;32m~/opt/anaconda3/lib/python3.9/site-packages/xgboost/sklearn.py:1114\u001b[0m, in \u001b[0;36mXGBModel.predict\u001b[0;34m(self, X, output_margin, ntree_limit, validate_features, base_margin, iteration_range)\u001b[0m\n\u001b[1;32m   1112\u001b[0m \u001b[38;5;28;01mif\u001b[39;00m \u001b[38;5;28mself\u001b[39m\u001b[38;5;241m.\u001b[39m_can_use_inplace_predict():\n\u001b[1;32m   1113\u001b[0m     \u001b[38;5;28;01mtry\u001b[39;00m:\n\u001b[0;32m-> 1114\u001b[0m         predts \u001b[38;5;241m=\u001b[39m \u001b[38;5;28;43mself\u001b[39;49m\u001b[38;5;241;43m.\u001b[39;49m\u001b[43mget_booster\u001b[49m\u001b[43m(\u001b[49m\u001b[43m)\u001b[49m\u001b[38;5;241;43m.\u001b[39;49m\u001b[43minplace_predict\u001b[49m\u001b[43m(\u001b[49m\n\u001b[1;32m   1115\u001b[0m \u001b[43m            \u001b[49m\u001b[43mdata\u001b[49m\u001b[38;5;241;43m=\u001b[39;49m\u001b[43mX\u001b[49m\u001b[43m,\u001b[49m\n\u001b[1;32m   1116\u001b[0m \u001b[43m            \u001b[49m\u001b[43miteration_range\u001b[49m\u001b[38;5;241;43m=\u001b[39;49m\u001b[43miteration_range\u001b[49m\u001b[43m,\u001b[49m\n\u001b[1;32m   1117\u001b[0m \u001b[43m            \u001b[49m\u001b[43mpredict_type\u001b[49m\u001b[38;5;241;43m=\u001b[39;49m\u001b[38;5;124;43m\"\u001b[39;49m\u001b[38;5;124;43mmargin\u001b[39;49m\u001b[38;5;124;43m\"\u001b[39;49m\u001b[43m \u001b[49m\u001b[38;5;28;43;01mif\u001b[39;49;00m\u001b[43m \u001b[49m\u001b[43moutput_margin\u001b[49m\u001b[43m \u001b[49m\u001b[38;5;28;43;01melse\u001b[39;49;00m\u001b[43m \u001b[49m\u001b[38;5;124;43m\"\u001b[39;49m\u001b[38;5;124;43mvalue\u001b[39;49m\u001b[38;5;124;43m\"\u001b[39;49m\u001b[43m,\u001b[49m\n\u001b[1;32m   1118\u001b[0m \u001b[43m            \u001b[49m\u001b[43mmissing\u001b[49m\u001b[38;5;241;43m=\u001b[39;49m\u001b[38;5;28;43mself\u001b[39;49m\u001b[38;5;241;43m.\u001b[39;49m\u001b[43mmissing\u001b[49m\u001b[43m,\u001b[49m\n\u001b[1;32m   1119\u001b[0m \u001b[43m            \u001b[49m\u001b[43mbase_margin\u001b[49m\u001b[38;5;241;43m=\u001b[39;49m\u001b[43mbase_margin\u001b[49m\u001b[43m,\u001b[49m\n\u001b[1;32m   1120\u001b[0m \u001b[43m            \u001b[49m\u001b[43mvalidate_features\u001b[49m\u001b[38;5;241;43m=\u001b[39;49m\u001b[43mvalidate_features\u001b[49m\u001b[43m,\u001b[49m\n\u001b[1;32m   1121\u001b[0m \u001b[43m        \u001b[49m\u001b[43m)\u001b[49m\n\u001b[1;32m   1122\u001b[0m         \u001b[38;5;28;01mif\u001b[39;00m _is_cupy_array(predts):\n\u001b[1;32m   1123\u001b[0m             \u001b[38;5;28;01mimport\u001b[39;00m \u001b[38;5;21;01mcupy\u001b[39;00m  \u001b[38;5;66;03m# pylint: disable=import-error\u001b[39;00m\n",
      "File \u001b[0;32m~/opt/anaconda3/lib/python3.9/site-packages/xgboost/core.py:2269\u001b[0m, in \u001b[0;36mBooster.inplace_predict\u001b[0;34m(self, data, iteration_range, predict_type, missing, validate_features, base_margin, strict_shape)\u001b[0m\n\u001b[1;32m   2265\u001b[0m         \u001b[38;5;28;01mraise\u001b[39;00m \u001b[38;5;167;01mTypeError\u001b[39;00m(\n\u001b[1;32m   2266\u001b[0m             \u001b[38;5;124m\"\u001b[39m\u001b[38;5;124m`shape` attribute is required when `validate_features` is True.\u001b[39m\u001b[38;5;124m\"\u001b[39m\n\u001b[1;32m   2267\u001b[0m         )\n\u001b[1;32m   2268\u001b[0m     \u001b[38;5;28;01mif\u001b[39;00m \u001b[38;5;28mlen\u001b[39m(data\u001b[38;5;241m.\u001b[39mshape) \u001b[38;5;241m!=\u001b[39m \u001b[38;5;241m1\u001b[39m \u001b[38;5;129;01mand\u001b[39;00m \u001b[38;5;28mself\u001b[39m\u001b[38;5;241m.\u001b[39mnum_features() \u001b[38;5;241m!=\u001b[39m data\u001b[38;5;241m.\u001b[39mshape[\u001b[38;5;241m1\u001b[39m]:\n\u001b[0;32m-> 2269\u001b[0m         \u001b[38;5;28;01mraise\u001b[39;00m \u001b[38;5;167;01mValueError\u001b[39;00m(\n\u001b[1;32m   2270\u001b[0m             \u001b[38;5;124mf\u001b[39m\u001b[38;5;124m\"\u001b[39m\u001b[38;5;124mFeature shape mismatch, expected: \u001b[39m\u001b[38;5;132;01m{\u001b[39;00m\u001b[38;5;28mself\u001b[39m\u001b[38;5;241m.\u001b[39mnum_features()\u001b[38;5;132;01m}\u001b[39;00m\u001b[38;5;124m, \u001b[39m\u001b[38;5;124m\"\u001b[39m\n\u001b[1;32m   2271\u001b[0m             \u001b[38;5;124mf\u001b[39m\u001b[38;5;124m\"\u001b[39m\u001b[38;5;124mgot \u001b[39m\u001b[38;5;132;01m{\u001b[39;00mdata\u001b[38;5;241m.\u001b[39mshape[\u001b[38;5;241m1\u001b[39m]\u001b[38;5;132;01m}\u001b[39;00m\u001b[38;5;124m\"\u001b[39m\n\u001b[1;32m   2272\u001b[0m         )\n\u001b[1;32m   2274\u001b[0m \u001b[38;5;28;01mfrom\u001b[39;00m \u001b[38;5;21;01m.\u001b[39;00m\u001b[38;5;21;01mdata\u001b[39;00m \u001b[38;5;28;01mimport\u001b[39;00m (\n\u001b[1;32m   2275\u001b[0m     _array_interface,\n\u001b[1;32m   2276\u001b[0m     _is_cudf_df,\n\u001b[0;32m   (...)\u001b[0m\n\u001b[1;32m   2279\u001b[0m     _transform_pandas_df,\n\u001b[1;32m   2280\u001b[0m )\n\u001b[1;32m   2282\u001b[0m enable_categorical \u001b[38;5;241m=\u001b[39m _has_categorical(\u001b[38;5;28mself\u001b[39m, data)\n",
      "\u001b[0;31mValueError\u001b[0m: Feature shape mismatch, expected: 10, got 6"
     ]
    }
   ],
   "source": [
    "xgb_pipe.predict(obs)"
   ]
  },
  {
   "cell_type": "markdown",
   "id": "0b2469c3-e019-4905-80dd-6bf44e4e73b9",
   "metadata": {},
   "source": [
    "Import `dump` from `joblib` package and save `xgb_pipe` into `models` folder"
   ]
  },
  {
   "cell_type": "code",
   "execution_count": null,
   "id": "b8084516-436c-40af-869d-e545a8ee52ff",
   "metadata": {},
   "outputs": [],
   "source": [
    "from joblib import dump\n",
    "\n",
    "dump(xgb_pipe,  '../models/xgb_pipeline_no_events.joblib')"
   ]
  }
 ],
 "metadata": {
  "kernelspec": {
   "display_name": "Python 3 (ipykernel)",
   "language": "python",
   "name": "python3"
  },
  "language_info": {
   "codemirror_mode": {
    "name": "ipython",
    "version": 3
   },
   "file_extension": ".py",
   "mimetype": "text/x-python",
   "name": "python",
   "nbconvert_exporter": "python",
   "pygments_lexer": "ipython3",
   "version": "3.9.12"
  }
 },
 "nbformat": 4,
 "nbformat_minor": 5
}
